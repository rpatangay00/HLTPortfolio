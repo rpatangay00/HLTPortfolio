{
  "nbformat": 4,
  "nbformat_minor": 0,
  "metadata": {
    "colab": {
      "provenance": []
    },
    "kernelspec": {
      "name": "python3",
      "display_name": "Python 3"
    },
    "language_info": {
      "name": "python"
    }
  },
  "cells": [
    {
      "cell_type": "markdown",
      "source": [
        "**What is WordNet? **\n",
        "\n",
        "WordNet is a lexical database which is specifically designed for NLP. This database includes nouns, verbs, adjectives, and adverbs that provides short definitions called glosses, and use examples. WordNet groups words into synonym sets called synsets. "
      ],
      "metadata": {
        "id": "EjyzqS2RJXbO"
      }
    },
    {
      "cell_type": "markdown",
      "source": [
        "**Import packages**"
      ],
      "metadata": {
        "id": "7s1s09EMPCYr"
      }
    },
    {
      "cell_type": "code",
      "source": [
        "import nltk\n",
        "nltk.download('omw-1.4')\n",
        "nltk.download('wordnet')\n",
        "from nltk.corpus import wordnet as wn"
      ],
      "metadata": {
        "colab": {
          "base_uri": "https://localhost:8080/"
        },
        "id": "xcdhk8KbJr-n",
        "outputId": "5ad94c7c-4463-4d50-8e42-bd29f5e94c69"
      },
      "execution_count": null,
      "outputs": [
        {
          "output_type": "stream",
          "name": "stderr",
          "text": [
            "[nltk_data] Downloading package omw-1.4 to /root/nltk_data...\n",
            "[nltk_data] Downloading package wordnet to /root/nltk_data...\n",
            "[nltk_data]   Package wordnet is already up-to-date!\n"
          ]
        }
      ]
    },
    {
      "cell_type": "markdown",
      "source": [
        "Outputing all synsets of the noun 'book' "
      ],
      "metadata": {
        "id": "wuMsDB_OPQWG"
      }
    },
    {
      "cell_type": "code",
      "source": [
        "wn.synsets('book')"
      ],
      "metadata": {
        "colab": {
          "base_uri": "https://localhost:8080/"
        },
        "id": "4Wi7ILDUKH2l",
        "outputId": "c2e99ca4-e03c-4a34-fe54-ec4f2dd5131f"
      },
      "execution_count": null,
      "outputs": [
        {
          "output_type": "execute_result",
          "data": {
            "text/plain": [
              "[Synset('book.n.01'),\n",
              " Synset('book.n.02'),\n",
              " Synset('record.n.05'),\n",
              " Synset('script.n.01'),\n",
              " Synset('ledger.n.01'),\n",
              " Synset('book.n.06'),\n",
              " Synset('book.n.07'),\n",
              " Synset('koran.n.01'),\n",
              " Synset('bible.n.01'),\n",
              " Synset('book.n.10'),\n",
              " Synset('book.n.11'),\n",
              " Synset('book.v.01'),\n",
              " Synset('reserve.v.04'),\n",
              " Synset('book.v.03'),\n",
              " Synset('book.v.04')]"
            ]
          },
          "metadata": {},
          "execution_count": 15
        }
      ]
    },
    {
      "cell_type": "markdown",
      "source": [
        "Extract the definition of one synset."
      ],
      "metadata": {
        "id": "w9N6BYyCPXvU"
      }
    },
    {
      "cell_type": "code",
      "source": [
        "print(wn.synset('book.n.01').definition())"
      ],
      "metadata": {
        "colab": {
          "base_uri": "https://localhost:8080/"
        },
        "id": "1PpqCP92KnxF",
        "outputId": "bd17efb4-e128-4dd8-a6ab-e04d94e946a2"
      },
      "execution_count": null,
      "outputs": [
        {
          "output_type": "stream",
          "name": "stdout",
          "text": [
            "a written work or composition that has been published (printed on pages bound together)\n"
          ]
        }
      ]
    },
    {
      "cell_type": "markdown",
      "source": [
        "Extract the number example(s) of one synset."
      ],
      "metadata": {
        "id": "AJuRTQuXPqV4"
      }
    },
    {
      "cell_type": "code",
      "source": [
        "len(wn.synset('book.n.01').examples())"
      ],
      "metadata": {
        "colab": {
          "base_uri": "https://localhost:8080/"
        },
        "id": "iD7ztilLK0q1",
        "outputId": "b25bc715-8f7e-4a71-8ae8-f865db560e66"
      },
      "execution_count": null,
      "outputs": [
        {
          "output_type": "execute_result",
          "data": {
            "text/plain": [
              "1"
            ]
          },
          "metadata": {},
          "execution_count": 17
        }
      ]
    },
    {
      "cell_type": "markdown",
      "source": [
        "Extract the example(s) of one synset."
      ],
      "metadata": {
        "id": "VMEpSj5xP0P7"
      }
    },
    {
      "cell_type": "code",
      "source": [
        "print(wn.synset('book.n.01').examples()[0])"
      ],
      "metadata": {
        "colab": {
          "base_uri": "https://localhost:8080/"
        },
        "id": "xIqpDO-JLPbf",
        "outputId": "ed166da1-d633-41b3-a8b6-141269453279"
      },
      "execution_count": null,
      "outputs": [
        {
          "output_type": "stream",
          "name": "stdout",
          "text": [
            "I am reading a good book on economics\n"
          ]
        }
      ]
    },
    {
      "cell_type": "markdown",
      "source": [
        "Extract the lemmas of one synset."
      ],
      "metadata": {
        "id": "q5fPngYfP3YD"
      }
    },
    {
      "cell_type": "code",
      "source": [
        "wn.synset('book.n.01').lemmas()"
      ],
      "metadata": {
        "colab": {
          "base_uri": "https://localhost:8080/"
        },
        "id": "0LGBjNMgLVH9",
        "outputId": "12ba1228-2b89-412d-eb6a-a648b3a00e27"
      },
      "execution_count": null,
      "outputs": [
        {
          "output_type": "execute_result",
          "data": {
            "text/plain": [
              "[Lemma('book.n.01.book')]"
            ]
          },
          "metadata": {},
          "execution_count": 19
        }
      ]
    },
    {
      "cell_type": "markdown",
      "source": [
        "Extract the lemma name of one synset."
      ],
      "metadata": {
        "id": "zVrNHpmUP-mw"
      }
    },
    {
      "cell_type": "code",
      "source": [
        "[str(lemma.name()) for lemma in wn.synset('book.n.01').lemmas()]"
      ],
      "metadata": {
        "colab": {
          "base_uri": "https://localhost:8080/"
        },
        "id": "E251TThmLd1L",
        "outputId": "868992f2-6c3a-4a84-c094-61a3499df03a"
      },
      "execution_count": null,
      "outputs": [
        {
          "output_type": "execute_result",
          "data": {
            "text/plain": [
              "['book']"
            ]
          },
          "metadata": {},
          "execution_count": 20
        }
      ]
    },
    {
      "cell_type": "markdown",
      "source": [
        "Hypernyms"
      ],
      "metadata": {
        "id": "KRWc-N15xu4L"
      }
    },
    {
      "cell_type": "code",
      "source": [
        "print (\"Hypernym for 'book': \", wn.synset('book.n.01').hypernyms()) \n"
      ],
      "metadata": {
        "colab": {
          "base_uri": "https://localhost:8080/"
        },
        "id": "oxGZu3SmwHQM",
        "outputId": "65d07fa2-5215-4afd-e289-9ddd250a2a0b"
      },
      "execution_count": null,
      "outputs": [
        {
          "output_type": "stream",
          "name": "stdout",
          "text": [
            "Hypernym for 'book':  [Synset('publication.n.01')]\n"
          ]
        }
      ]
    },
    {
      "cell_type": "markdown",
      "source": [
        "Hyponyms"
      ],
      "metadata": {
        "id": "5GoHWBToxwIk"
      }
    },
    {
      "cell_type": "code",
      "source": [
        "print (\"Hyponyms for 'book': \", wn.synset('book.n.01').hyponyms()) \n"
      ],
      "metadata": {
        "colab": {
          "base_uri": "https://localhost:8080/"
        },
        "id": "JohTL2E6wVsf",
        "outputId": "a57fda90-6809-4c51-bb73-8a76a8a91a67"
      },
      "execution_count": null,
      "outputs": [
        {
          "output_type": "stream",
          "name": "stdout",
          "text": [
            "Hyponyms for 'book':  [Synset('appointment_book.n.01'), Synset('authority.n.07'), Synset('bestiary.n.01'), Synset('booklet.n.01'), Synset('catalog.n.01'), Synset('catechism.n.02'), Synset('copybook.n.01'), Synset('curiosa.n.01'), Synset('formulary.n.01'), Synset('phrase_book.n.01'), Synset('playbook.n.02'), Synset('pop-up_book.n.01'), Synset('prayer_book.n.01'), Synset('reference_book.n.01'), Synset('review_copy.n.01'), Synset('songbook.n.01'), Synset('storybook.n.01'), Synset('textbook.n.01'), Synset('tome.n.01'), Synset('trade_book.n.01'), Synset('workbook.n.01'), Synset('yearbook.n.01')]\n"
          ]
        }
      ]
    },
    {
      "cell_type": "markdown",
      "source": [
        "Meronyms"
      ],
      "metadata": {
        "id": "tpFtjo1QxxoK"
      }
    },
    {
      "cell_type": "code",
      "source": [
        "book = wn.synset('book.n.01')\n",
        " \n",
        "print(book.part_meronyms())\n"
      ],
      "metadata": {
        "colab": {
          "base_uri": "https://localhost:8080/"
        },
        "id": "USoyFXeXw-Zs",
        "outputId": "11fcee36-ee3a-4967-d0a3-11a2d7266b5f"
      },
      "execution_count": null,
      "outputs": [
        {
          "output_type": "stream",
          "name": "stdout",
          "text": [
            "[Synset('running_head.n.01'), Synset('signature.n.05')]\n"
          ]
        }
      ]
    },
    {
      "cell_type": "markdown",
      "source": [
        "Using Morphy to find noun 'book'."
      ],
      "metadata": {
        "id": "hP-zta-eQDTH"
      }
    },
    {
      "cell_type": "code",
      "source": [
        "print(wn.morphy('books'))"
      ],
      "metadata": {
        "colab": {
          "base_uri": "https://localhost:8080/"
        },
        "id": "aT6_9J1WL0io",
        "outputId": "ede0f5a5-1769-4d05-b91a-bb4aaa675d29"
      },
      "execution_count": null,
      "outputs": [
        {
          "output_type": "stream",
          "name": "stdout",
          "text": [
            "book\n"
          ]
        }
      ]
    },
    {
      "cell_type": "markdown",
      "source": [
        "Setting variables for two words I would find similarity in."
      ],
      "metadata": {
        "id": "vh474ShwQI8V"
      }
    },
    {
      "cell_type": "code",
      "source": [
        "syn1 = wn.synsets('book')[0]\n",
        "syn2 = wn.synsets('read')[0]\n",
        " \n",
        "print (\"hello name :  \", syn1.name())\n",
        "print (\"selling name :  \", syn2.name())"
      ],
      "metadata": {
        "colab": {
          "base_uri": "https://localhost:8080/"
        },
        "id": "6NbrAASdNLg4",
        "outputId": "3a0b1b55-c75f-4fb8-ec69-2437dbce1bf0"
      },
      "execution_count": null,
      "outputs": [
        {
          "output_type": "stream",
          "name": "stdout",
          "text": [
            "hello name :   book.n.01\n",
            "selling name :   read.n.01\n"
          ]
        }
      ]
    },
    {
      "cell_type": "markdown",
      "source": [
        "Running the Wu-Palmer similarity metric on the two words."
      ],
      "metadata": {
        "id": "QcW_VMlGQPnm"
      }
    },
    {
      "cell_type": "code",
      "source": [
        "syn1.wup_similarity(syn2)"
      ],
      "metadata": {
        "colab": {
          "base_uri": "https://localhost:8080/"
        },
        "id": "_V4gkUErN141",
        "outputId": "e001b19a-5927-4b02-e5f5-c8b1267df857"
      },
      "execution_count": null,
      "outputs": [
        {
          "output_type": "execute_result",
          "data": {
            "text/plain": [
              "0.9"
            ]
          },
          "metadata": {},
          "execution_count": 40
        }
      ]
    },
    {
      "cell_type": "markdown",
      "source": [
        "Finding the similarity between the two words to be 90 percent similar!"
      ],
      "metadata": {
        "id": "xml7kc8uRLx2"
      }
    },
    {
      "cell_type": "markdown",
      "source": [
        "**SentiWordNet**\n",
        "\n",
        "SentiWordNet is a lexical resource built on top of WordNet that assigns 3 sentiment scores for each synset: positivity, negativity, and objectivity. Gives positive and negative values [0.1]."
      ],
      "metadata": {
        "id": "sTWYpc84yBMM"
      }
    },
    {
      "cell_type": "markdown",
      "source": [],
      "metadata": {
        "id": "SQIqEVE-zH20"
      }
    }
  ]
}